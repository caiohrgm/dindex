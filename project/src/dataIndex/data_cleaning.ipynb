{
 "cells": [
  {
   "cell_type": "code",
   "execution_count": 1,
   "id": "9ae80626",
   "metadata": {},
   "outputs": [],
   "source": [
    "# !pip install openpyxl"
   ]
  },
  {
   "cell_type": "code",
   "execution_count": 2,
   "id": "f86e440d",
   "metadata": {},
   "outputs": [],
   "source": [
    "import pandas as pd\n",
    "import numpy as np\n",
    "import os\n",
    "import re\n",
    "import requests\n",
    "from urllib.parse import urlparse\n",
    "import shutil\n",
    "\n",
    "import utils as utl\n",
    "\n",
    "initial_df = pd.read_csv('../../public/data/digimons.csv')\n",
    "in_game_digimons_df = pd.read_excel('../data/Time Stranger Complete Digimon List.xlsx')\n",
    "\n",
    "in_game_dig_names = in_game_digimons_df['Name'].tolist()"
   ]
  },
  {
   "cell_type": "markdown",
   "id": "7d282f51",
   "metadata": {},
   "source": [
    "## 1. Tratamentos na tabela"
   ]
  },
  {
   "cell_type": "code",
   "execution_count": 3,
   "id": "1a99fca9",
   "metadata": {},
   "outputs": [],
   "source": [
    "# Remoção de coluna 'type' que só tem valor NaN:\n",
    "df = utl.remove_type_column(initial_df)\n",
    "\n",
    "# Normalizando a coluna 'name':\n",
    "df = utl.normliza_column_name(df)\n",
    "\n",
    "# def normalize_name(name):\n",
    "df['name'] = df['name'].apply(utl.normalize_name)\n",
    "df = df[df['name'] != 'Agumon Black']\n",
    "df = df.drop_duplicates(subset='name', keep='first').reset_index(drop=True)\n",
    "\n",
    "# # Normalizando os valores da coluna 'level':\n",
    "df['level'] = df['level'].apply(utl.normalize_level)\n",
    "\n",
    "# Normalizando a coluna 'attribute':\n",
    "df['attribute'] = df['attribute'].apply(utl.normalize_attribute)\n",
    "\n",
    "# Normalizando a coluna 'family':\n",
    "df['family'] = df['family'].apply(utl.normalize_family)\n",
    "\n",
    "# Normalizando 'prior_forms':\n",
    "df[\"prior_forms\"] = df[\"prior_forms\"].apply(utl.normalize_prior_forms)\n",
    "\n",
    "# Normalizando as colunas 'next_forms' e 'lateral_next_forms':\n",
    "df[\"next_forms\"] = df[\"next_forms\"].apply(utl.format_list_column)\n",
    "df[\"lateral_next_forms\"] = df[\"lateral_next_forms\"].apply(utl.format_list_column)\n",
    "\n",
    "# Normalizando a coluna'digifuse_forms':\n",
    "df['digifuse_forms'] = df['digifuse_forms'].apply(utl.clean_digifuse)\n",
    "\n",
    "# Normalizando a coluna 'attacks':\n",
    "df['attacks'] = df['attacks'].apply(utl.normalize_attacks)\n",
    "\n",
    "# Separando palavras com letras maiúsculas:\n",
    "df['name'] = df['name'].str.replace(r'(?<=[a-z])(?=[A-Z])', ' ', regex=True)\n",
    "\n",
    "# Adicionando coluna 'source':\n",
    "names = in_game_dig_names\n",
    "\n",
    "# Normalizando a coluna de 'attacs':\n",
    "attacks_list = []\n",
    "\n",
    "for i in range(df.shape[0]):\n",
    "\n",
    "    splitted_list = df['attacks'].iloc[i].split('|')\n",
    "    for word in splitted_list:\n",
    "        attacks_list.append(word)\n",
    "        \n",
    "while \"Unknown\" in attacks_list:\n",
    "    attacks_list.remove(\"Unknown\")\n"
   ]
  },
  {
   "cell_type": "markdown",
   "id": "62e9093f",
   "metadata": {},
   "source": [
    "## 2.3 Criar dataframe separado, só com os digimons do jogo"
   ]
  },
  {
   "cell_type": "code",
   "execution_count": 4,
   "id": "a0873f5f",
   "metadata": {},
   "outputs": [],
   "source": [
    "# Criar dataframe base com todos os nomes da lista\n",
    "base_df = pd.DataFrame({'name': names})\n",
    "\n",
    "# Fazer merge com o df original\n",
    "merged_df = base_df.merge(df, on='name', how='left')\n",
    "\n",
    "# Coluna included: True se achou (não nulo), False caso contrário\n",
    "merged_df['included'] = merged_df['name'].notna()\n",
    "\n",
    "# Colunas exceto 'name' e 'included'\n",
    "cols_check = merged_df.columns.difference([\"name\", \"included\"])\n",
    "\n",
    "# Se todos os valores (exceto name/included) forem NaN, marcar included = False\n",
    "mask_missing = merged_df[cols_check].isna().all(axis=1)\n",
    "merged_df.loc[mask_missing, \"included\"] = False\n",
    "\n",
    "# Substitui todos os NaN por \"Unknown\"\n",
    "merged_df = merged_df.fillna(\"Unknown\")\n",
    "merged_df['image'] = merged_df['image'].replace(\"Unknown\", \"\")\n",
    "\n",
    "# Substituindo o endereço das imagens pelas imagens locais:\n",
    "origin = './imagens_digimon/'\n",
    "target = './new_digimon_images'\n",
    "\n",
    "# Cria pasta destino se não existir\n",
    "os.makedirs(target, exist_ok=True)\n",
    "\n",
    "# Lista de nomes do merged_df\n",
    "nomes_desejados = merged_df[\"name\"].tolist()\n",
    "\n",
    "# Normalizar nomes para comparação (ignorar maiúsculas/minúsculas, espaços etc.)\n",
    "nomes_desejados_normalizados = {nome.lower().replace(\" \", \"_\") for nome in nomes_desejados}\n",
    "\n",
    "# Loop pelos arquivos na pasta original\n",
    "for arquivo in os.listdir(origin):\n",
    "    nome_base, ext = os.path.splitext(arquivo)\n",
    "    if nome_base.lower().replace(\" \", \"_\") in nomes_desejados_normalizados:\n",
    "        origem_arquivo = os.path.join(origin, arquivo)\n",
    "        destino_arquivo = os.path.join(target, arquivo)\n",
    "        shutil.copy2(origem_arquivo, destino_arquivo)\n",
    "\n",
    "# Pasta onde estão as imagens filtradas\n",
    "pasta_imagens = target\n",
    "\n",
    "# Criar dicionário: {nome_base: caminho_completo}\n",
    "mapa_imagens = {\n",
    "    os.path.splitext(f)[0].lower().replace(\"_\", \" \"): os.path.join(pasta_imagens, f)\n",
    "    for f in os.listdir(pasta_imagens)\n",
    "    if f.lower().endswith((\".jpg\", \".jpeg\", \".png\"))\n",
    "}\n",
    "\n",
    "# Substituir coluna 'image' pelos paths locais (ou \"Unknown\" se não encontrado)\n",
    "merged_df[\"image\"] = merged_df[\"name\"].str.lower().map(mapa_imagens).fillna(\"no image\")\n",
    "\n",
    "if 'id' in merged_df.columns:\n",
    "    merged_df['id'] = range(1, len(merged_df) + 1)\n",
    "\n",
    "# Separa um df com apenas os digimons que ficarma faltando:\n",
    "merged_df[merged_df['included'] == False].to_excel('../data/missing_digimons.xlsx', index=False)\n",
    "\n",
    "merged_df = merged_df[['id','name',\n",
    " 'image',\n",
    " 'level',\n",
    " 'attribute',\n",
    " 'family',\n",
    " 'prior_forms',\n",
    " 'next_forms',\n",
    " 'lateral_next_forms',\n",
    " 'digifuse_forms',\n",
    " 'attacks',\n",
    " 'included']]\n",
    "\n",
    "# Reformat image paths:\n",
    "df['image'] = df['image'].str.replace(r'^\\.\\/', '/', regex=True)  # remove \"./\" do começo\n",
    "df['image'] = df['image'].str.replace(r'\\\\', '/', regex=True)      # troca \\ por /"
   ]
  },
  {
   "cell_type": "markdown",
   "id": "73ed522d",
   "metadata": {},
   "source": [
    "## 2. Executando a versão final do DF e salvando em .csv"
   ]
  },
  {
   "cell_type": "code",
   "execution_count": 5,
   "id": "cbf275b6",
   "metadata": {},
   "outputs": [],
   "source": [
    "merged_df.to_csv('../../public/data/ingame_digimons.csv', index=False)"
   ]
  },
  {
   "cell_type": "code",
   "execution_count": 6,
   "id": "2c4807a4",
   "metadata": {},
   "outputs": [
    {
     "name": "stdout",
     "output_type": "stream",
     "text": [
      "Total de arquivos: 248\n"
     ]
    }
   ],
   "source": [
    "pasta = \"../dataIndex/new_digimon_images/\"\n",
    "total = len([f for f in os.listdir(pasta) if os.path.isfile(os.path.join(pasta, f))])\n",
    "\n",
    "print(f\"Total de arquivos: {total}\")"
   ]
  },
  {
   "cell_type": "code",
   "execution_count": null,
   "id": "71218f71",
   "metadata": {},
   "outputs": [],
   "source": []
  }
 ],
 "metadata": {
  "kernelspec": {
   "display_name": ".venv",
   "language": "python",
   "name": "python3"
  },
  "language_info": {
   "codemirror_mode": {
    "name": "ipython",
    "version": 3
   },
   "file_extension": ".py",
   "mimetype": "text/x-python",
   "name": "python",
   "nbconvert_exporter": "python",
   "pygments_lexer": "ipython3",
   "version": "3.12.10"
  }
 },
 "nbformat": 4,
 "nbformat_minor": 5
}
